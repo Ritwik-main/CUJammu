{
 "cells": [
  {
   "cell_type": "markdown",
   "id": "fbc0cc18-f929-437e-9e59-008331aa2714",
   "metadata": {},
   "source": [
    "![banner](images//banner.png)"
   ]
  },
  {
   "cell_type": "code",
   "execution_count": 4,
   "id": "1d3e9f45-9e3d-4986-98b1-0950094e4f92",
   "metadata": {},
   "outputs": [],
   "source": [
    "import numpy as np\n",
    "import pandas as pd"
   ]
  },
  {
   "cell_type": "markdown",
   "id": "b81a4561-6d4c-47df-8a68-c6d8815a6571",
   "metadata": {},
   "source": [
    "Q1) create a numpy array of 9 elements and reshape it into a 2D array of dimensions 3x3"
   ]
  },
  {
   "cell_type": "code",
   "execution_count": 5,
   "id": "86c5f1d2-aa4e-4930-8c0f-6273acca0654",
   "metadata": {},
   "outputs": [
    {
     "name": "stdout",
     "output_type": "stream",
     "text": [
      "array before transformation:\n",
      " [1 2 3 4 5 6 7 8 9]\n",
      "array after transformation:\n",
      " [[1 2 3]\n",
      " [4 5 6]\n",
      " [7 8 9]]\n"
     ]
    }
   ],
   "source": [
    "arr = np.arange(1,10)\n",
    "print('array before transformation:\\n', arr)\n",
    "arr = arr.reshape(3,3)\n",
    "print('array after transformation:\\n', arr)"
   ]
  },
  {
   "cell_type": "markdown",
   "id": "eda4ae7a-7d61-4ebd-8191-49a2478d6767",
   "metadata": {},
   "source": [
    "Q2)print the output of the following code"
   ]
  },
  {
   "cell_type": "code",
   "execution_count": 6,
   "id": "77047051-1a28-45d2-88b1-6c89a31a7ff1",
   "metadata": {},
   "outputs": [
    {
     "name": "stdout",
     "output_type": "stream",
     "text": [
      "[0, 2, 4, 6, 8]\n"
     ]
    }
   ],
   "source": [
    "list3 = [x for x in range(10) if x % 2 == 0]\n",
    "print(list3)"
   ]
  },
  {
   "cell_type": "markdown",
   "id": "724bd0f7-658f-4d89-9d78-1dff3c43a9a8",
   "metadata": {},
   "source": [
    "Q3)given  the string text \"PythonProgramming\". Perform string slicing according to the following instructions:"
   ]
  },
  {
   "cell_type": "code",
   "execution_count": 7,
   "id": "90f111ba-7565-4348-a8dd-02588fb75799",
   "metadata": {},
   "outputs": [
    {
     "name": "stdout",
     "output_type": "stream",
     "text": [
      "Python\n",
      "Programmin\n",
      "mming\n",
      "Pything\n"
     ]
    }
   ],
   "source": [
    "string = \"PythonProgramming\"\n",
    "#slice the string to obtain the first 6 letters\n",
    "str1 = string[0:6]\n",
    "print(str1)\n",
    "#extract a string that includes the characters from the 6th index to the 15th index\n",
    "str2 = string[6:16]\n",
    "print(str2)\n",
    "#slice the last 5 letters form the string\n",
    "str3 = string[-5:]\n",
    "print(str3)\n",
    "#make a new string by concatenating the first 4 and last 3 letters\n",
    "str4 = string[-3:]\n",
    "str5 = string[0:4]\n",
    "str6 = str5 + str4\n",
    "print(str6)"
   ]
  },
  {
   "cell_type": "markdown",
   "id": "529acbee-abbb-4385-a63d-1b349590c86c",
   "metadata": {},
   "source": [
    "Q5) Write a python program to generate two pandas dataframes one using a dictionary and the second using a list"
   ]
  },
  {
   "cell_type": "code",
   "execution_count": 11,
   "id": "5dd31aa4-34c9-400b-8763-562d2c6180ff",
   "metadata": {},
   "outputs": [
    {
     "name": "stdout",
     "output_type": "stream",
     "text": [
      "  Name  Age         City\n",
      "0    A   25     New York\n",
      "1    B   30  Los Angeles\n",
      "2    C   35      Chicago\n",
      "  Name  Age         City\n",
      "0    A   25     New York\n",
      "1    B   30  Los Angeles\n",
      "2    C   35      Chicago\n"
     ]
    }
   ],
   "source": [
    "data_dict = {\n",
    "    'Name': ['A', 'B', 'C'],\n",
    "    'Age': [25, 30, 35],\n",
    "    'City': ['New York', 'Los Angeles', 'Chicago']\n",
    "}\n",
    "\n",
    "df_from_dict = pd.DataFrame(data_dict)\n",
    "\n",
    "print(df_from_dict)\n",
    "data_list = [\n",
    "    {'Name': 'A', 'Age': 25, 'City': 'New York'},\n",
    "    {'Name': 'B', 'Age': 30, 'City': 'Los Angeles'},\n",
    "    {'Name': 'C', 'Age': 35, 'City': 'Chicago'}\n",
    "]\n",
    "\n",
    "df_from_list = pd.DataFrame(data_list)\n",
    "\n",
    "print(df_from_list)\n"
   ]
  },
  {
   "cell_type": "markdown",
   "id": "4031b60f-e319-47e0-9de5-cfd050e49772",
   "metadata": {},
   "source": [
    "Q6)Write a python program to discuss in detail the variance, standard deviation, covariance and corelation"
   ]
  },
  {
   "cell_type": "code",
   "execution_count": 13,
   "id": "dadbc5fd-2986-4ae4-ad64-4fd433ed95f2",
   "metadata": {},
   "outputs": [
    {
     "name": "stdout",
     "output_type": "stream",
     "text": [
      "Variance: 2.5\n",
      "Standard Deviation: 1.5811388300841898\n",
      "Covariance: 2.5\n",
      "Correlation: 0.9999999999999999\n"
     ]
    }
   ],
   "source": [
    "# Sample data\n",
    "data = {'Values': [1, 2, 3, 4, 5]}\n",
    "df = pd.DataFrame(data)\n",
    "\n",
    "# Calculate variance\n",
    "variance = df['Values'].var()\n",
    "print(f\"Variance: {variance}\")\n",
    "\n",
    "# Calculate standard deviation\n",
    "std_dev = df['Values'].std()\n",
    "print(f\"Standard Deviation: {std_dev}\")\n",
    "\n",
    "# Sample data for two variables\n",
    "data1 = {'X': [1, 2, 3, 4, 5]}\n",
    "data2 = {'Y': [2, 3, 4, 5, 6]}\n",
    "df1 = pd.DataFrame(data1)\n",
    "df2 = pd.DataFrame(data2)\n",
    "\n",
    "# Calculate covariance\n",
    "covariance = df1['X'].cov(df2['Y'])\n",
    "print(f\"Covariance: {covariance}\")\n",
    "\n",
    "# Calculate correlation\n",
    "correlation = df1['X'].corr(df2['Y'])\n",
    "print(f\"Correlation: {correlation}\")"
   ]
  },
  {
   "cell_type": "markdown",
   "id": "95b5b8ac-b81d-4648-8d8f-e19978f3cdc4",
   "metadata": {},
   "source": [
    "Write a python program to describe the concepts of standardization and normalization, also discuss when these techniques should be used"
   ]
  },
  {
   "cell_type": "code",
   "execution_count": 15,
   "id": "7b988728-e77b-42c3-aea8-6b5c4f93eb89",
   "metadata": {},
   "outputs": [
    {
     "name": "stdout",
     "output_type": "stream",
     "text": [
      "Standardized Data\n",
      "          A         B\n",
      "0 -1.414214 -1.414214\n",
      "1 -0.707107 -0.707107\n",
      "2  0.000000  0.000000\n",
      "3  0.707107  0.707107\n",
      "4  1.414214  1.414214\n",
      "Normalized Data\n",
      "      A     B\n",
      "0  0.00  0.00\n",
      "1  0.25  0.25\n",
      "2  0.50  0.50\n",
      "3  0.75  0.75\n",
      "4  1.00  1.00\n"
     ]
    }
   ],
   "source": [
    "from sklearn.preprocessing import StandardScaler\n",
    "from sklearn.preprocessing import MinMaxScaler\n",
    "\n",
    "data = {\n",
    "    'A': [1, 2, 3, 4, 5],\n",
    "    'B': [10, 20, 30, 40, 50]\n",
    "}\n",
    "df = pd.DataFrame(data)\n",
    "\n",
    "# Standardize the data\n",
    "scaler = StandardScaler()\n",
    "df_standardized = pd.DataFrame(scaler.fit_transform(df), columns=df.columns)\n",
    "\n",
    "print(\"Standardized Data\")\n",
    "print(df_standardized)\n",
    "\n",
    "# Normalize the data\n",
    "scaler = MinMaxScaler()\n",
    "df_normalized = pd.DataFrame(scaler.fit_transform(df), columns=df.columns)\n",
    "\n",
    "print(\"Normalized Data\")\n",
    "print(df_normalized)"
   ]
  },
  {
   "cell_type": "markdown",
   "id": "8579bdd3-69fa-4df3-bd06-d913acc4a6de",
   "metadata": {},
   "source": [
    "Q8) write a python program to read the data from a file named \"weather.csv\" for 50 cities of a state in india. the file has the following fields:\n",
    "\"```City,Wind,Precipitation,Highest_Temperature,Lowest_Temperature,Humidity and Atmospheric_Pressure```\"\n",
    "the program should do the following things:\n",
    "1.display first 5 entries of city \n",
    "2. display first 5 entries of the whole dataframe \n",
    "3. display the total null values in humidity and precipitation \n",
    "4. display all the rows by removing an instance of the missing values \n",
    "5. find the dimensions of the dataframe\n",
    "6. fill the missing values in humidity and precipitation with mean of the columns"
   ]
  },
  {
   "cell_type": "code",
   "execution_count": null,
   "id": "ee5b7bdc-8e68-492d-a088-85f6ceae2e03",
   "metadata": {},
   "outputs": [],
   "source": [
    "# Step 1: Read the data from the CSV file\n",
    "df = pd.read_csv('weather.csv')\n",
    "\n",
    "# Step 2: Display the first 5 entries of the city column\n",
    "print(\"First 5 entries of the city column:\")\n",
    "print(df['City'].head())\n",
    "\n",
    "# Step 3: Display the first 5 entries of the whole dataframe\n",
    "print(\"\\nFirst 5 entries of the whole dataframe:\")\n",
    "print(df.head())\n",
    "\n",
    "# Step 4: Display the total null values in humidity and precipitation\n",
    "print(\"\\nTotal null values in humidity and precipitation:\")\n",
    "print(df['Humidity'].isnull().sum(), df['Precipitation'].isnull().sum())\n",
    "\n",
    "# Step 5: Display all the rows by removing an instance of the missing values\n",
    "df_cleaned = df.dropna(subset=['Humidity', 'Precipitation'])\n",
    "print(\"\\nRows after removing instances with missing values in humidity or precipitation:\")\n",
    "print(df_cleaned)\n",
    "\n",
    "# Step 6: Find the dimensions of the dataframe\n",
    "print(\"\\nDimensions of the dataframe:\")\n",
    "print(df_cleaned.shape)\n",
    "\n",
    "# Step 7: Fill the missing values in humidity and precipitation with the mean of the columns\n",
    "df_filled = df.fillna({'Humidity': df['Humidity'].mean(), 'Precipitation': df['Precipitation'].mean()})\n",
    "print(\"\\nDataframe after filling missing values in humidity and precipitation with their means:\")\n",
    "print(df_filled)\n",
    "\n",
    "\n",
    "\n",
    "'not executing this code block because sample data not provided'"
   ]
  },
  {
   "cell_type": "markdown",
   "id": "00a30130-1ebb-41ed-b906-2e439c280f94",
   "metadata": {},
   "source": [
    "Q10) Show application of PCA"
   ]
  },
  {
   "cell_type": "code",
   "execution_count": 22,
   "id": "c6e059d4-c0c7-451e-938a-cb8ab0f2f9c5",
   "metadata": {},
   "outputs": [
    {
     "data": {
      "application/vnd.plotly.v1+json": {
       "config": {
        "plotlyServerURL": "https://plot.ly"
       },
       "data": [
        {
         "hovertemplate": "color=setosa<br>0=%{x}<br>1=%{y}<extra></extra>",
         "legendgroup": "setosa",
         "marker": {
          "color": "#636efa",
          "symbol": "circle"
         },
         "mode": "markers",
         "name": "setosa",
         "orientation": "v",
         "showlegend": true,
         "type": "scatter",
         "x": [
          -2.684207125103941,
          -2.715390615634131,
          -2.889819539617914,
          -2.746437197308734,
          -2.728592981831314,
          -2.279897361009597,
          -2.820890682180629,
          -2.6264819933238184,
          -2.8879585653356337,
          -2.67384468671912,
          -2.5065267893389023,
          -2.6131427182710554,
          -2.7874339759970965,
          -3.22520044627498,
          -2.6435432169411457,
          -2.383869323799374,
          -2.622526203125808,
          -2.6483227324791256,
          -2.199077961430762,
          -2.5873461889177376,
          -2.310531701313133,
          -2.5432349073036944,
          -3.2158576949001043,
          -2.303128537663882,
          -2.3561710866838967,
          -2.5079172268378795,
          -2.469055997545122,
          -2.56239094683675,
          -2.639821268376581,
          -2.6328479080307567,
          -2.588462051303391,
          -2.410077337121595,
          -2.6476366733968995,
          -2.597159477075917,
          -2.67384468671912,
          -2.8669998469325337,
          -2.6252284646804203,
          -2.67384468671912,
          -2.9818426648539074,
          -2.590323025585673,
          -2.770138910746323,
          -2.8522110815663915,
          -2.99829644283235,
          -2.4055141012847003,
          -2.208832954176705,
          -2.7156651907474534,
          -2.537573371013506,
          -2.840321296827008,
          -2.5426857570770474,
          -2.7039123148636497
         ],
         "xaxis": "x",
         "y": [
          0.3266073147643875,
          -0.16955684755602596,
          -0.1373456096050279,
          -0.31112431575199184,
          0.333924563568455,
          0.7477827132251341,
          -0.08210451102468083,
          0.1704053489602901,
          -0.5707980263315917,
          -0.10669170375273848,
          0.6519350136725723,
          0.02152063196025803,
          -0.22774018887110634,
          -0.5032799094854259,
          1.1861948994134501,
          1.344754344559863,
          0.8180896745965957,
          0.31913666775088495,
          0.8792440880917372,
          0.5204736388059684,
          0.39786782158889217,
          0.4400317546598157,
          0.14161557162558389,
          0.10552267842998249,
          -0.031209589068338338,
          -0.13905633991317395,
          0.13788731459041798,
          0.37468456275010636,
          0.3192900659603221,
          -0.19007583063362404,
          -0.19739307943769085,
          0.4180800082476164,
          0.8199826325595074,
          1.1000219280072692,
          -0.10669170375273848,
          0.07719309572358742,
          0.6068000084215868,
          -0.10669170375273848,
          -0.4802500488560766,
          0.23605933728887316,
          0.27105941976516734,
          -0.9328653674695447,
          -0.3343075745907772,
          0.19591725769606103,
          0.4426960304210033,
          -0.24268148289811298,
          0.5103675454766062,
          -0.22057633827647663,
          0.5862810253439888,
          0.11501085217050586
         ],
         "yaxis": "y"
        },
        {
         "hovertemplate": "color=versicolor<br>0=%{x}<br>1=%{y}<extra></extra>",
         "legendgroup": "versicolor",
         "marker": {
          "color": "#EF553B",
          "symbol": "circle"
         },
         "mode": "markers",
         "name": "versicolor",
         "orientation": "v",
         "showlegend": true,
         "type": "scatter",
         "x": [
          1.284794587845071,
          0.9324107529829173,
          1.464061322779075,
          0.18096720634769878,
          1.0871344872070003,
          0.6404367495231452,
          1.0952237099384783,
          -0.7514671406482267,
          1.0432977807062804,
          -0.010190070727853318,
          -0.5110861958950906,
          0.5110980606834774,
          0.2623357561531803,
          0.9840445451694307,
          -0.17486400196569596,
          0.9275729420326997,
          0.6595927890562007,
          0.23454058625983565,
          0.9423617073988416,
          0.043246400328704734,
          1.1162407237538154,
          0.35678656783046137,
          1.2964688502855335,
          0.9205026489090091,
          0.7140082136428331,
          0.8996408632837757,
          1.3310414188547195,
          1.557396272070702,
          0.8124555489980019,
          -0.3073347556634042,
          -0.07034288894927149,
          -0.1918844921031455,
          0.1349949504513734,
          1.3787369827755824,
          0.5872748535799107,
          0.8072054966767167,
          1.2204289662446794,
          0.8128677903690694,
          0.24519516169034616,
          0.16451342836925578,
          0.46303098887142424,
          0.8901604456511563,
          0.2288790499696477,
          -0.7070812839208603,
          0.3555330391870635,
          0.33112694733272285,
          0.37523822894676584,
          0.641690278166543,
          -0.9084633331234949,
          0.297807907406934
         ],
         "xaxis": "x",
         "y": [
          0.6854391861329202,
          0.31919808983364883,
          0.5041898329724532,
          -0.8256039435761137,
          0.07539038928876743,
          -0.4173234829700259,
          0.2838912109384804,
          -1.0011075129743947,
          0.22895690877700683,
          -0.7205748667019019,
          -1.2624919538621409,
          -0.10228410504597027,
          -0.547893298025337,
          -0.12436042022227808,
          -0.25181557108017066,
          0.4682362050431173,
          -0.35197629106031675,
          -0.33192182936212056,
          -0.5418222581500143,
          -0.581489446612359,
          -0.08421401387837348,
          -0.06682382794136625,
          -0.3275615197949444,
          -0.18239036332792113,
          0.1503791531484372,
          0.32961097958188407,
          0.24466952060228928,
          0.26739258481276484,
          -0.16233157487863342,
          -0.3650866127661605,
          -0.7025379317307262,
          -0.6774905443743575,
          -0.31170964270339635,
          -0.42120513821462857,
          -0.4832842677174826,
          0.19505396377111156,
          0.40803533700101774,
          -0.3706789983189099,
          -0.2667280356618481,
          -0.679661469310814,
          -0.6695265465361229,
          -0.03381244274676277,
          -0.40225762017891153,
          -1.0084247617784614,
          -0.5032184874026625,
          -0.2111801406626268,
          -0.29162202480877986,
          0.01907117649127073,
          -0.7515687251694858,
          -0.34701652159856405
         ],
         "yaxis": "y"
        },
        {
         "hovertemplate": "color=virginica<br>0=%{x}<br>1=%{y}<extra></extra>",
         "legendgroup": "virginica",
         "marker": {
          "color": "#00cc96",
          "symbol": "circle"
         },
         "mode": "markers",
         "name": "virginica",
         "orientation": "v",
         "showlegend": true,
         "type": "scatter",
         "x": [
          2.531726980439558,
          1.4140722251737572,
          2.616484608284043,
          1.9708149459064814,
          2.3497579839509415,
          3.3968799206781375,
          0.5193832450849365,
          2.932005096991301,
          2.319672793874053,
          2.918134233644251,
          1.6619349470194862,
          1.8023404526607327,
          2.165378862953397,
          1.3445942175098242,
          1.5852672993086436,
          1.904743578213912,
          1.9492487818644972,
          3.488765379656385,
          3.794686861209969,
          1.2983298245678159,
          2.4281672590208476,
          1.1980973722749628,
          3.499265484298956,
          1.3876682501815554,
          2.275853649305694,
          2.614193830698334,
          1.2576251829251361,
          1.2906696477376014,
          2.1228539805083124,
          2.3875644023690272,
          2.8409609252853834,
          3.2323428982958737,
          2.1587383731331338,
          1.4431026043759743,
          1.7796401068985694,
          3.076521621020661,
          2.1449868567093033,
          1.9048629251371314,
          1.1688534694704034,
          2.107653731173268,
          2.314303394629548,
          1.9224508848357522,
          1.4140722251737572,
          2.5633227123408084,
          2.4193912198049796,
          1.9440170488777369,
          1.5256636313138725,
          1.7640459355269822,
          1.9016290752882323,
          1.3896661333194165
         ],
         "xaxis": "x",
         "y": [
          -0.011842236640300513,
          -0.5749250559123051,
          0.3419352869872948,
          -0.18112569470491394,
          -0.041882549654841957,
          0.5471680462301528,
          -1.1913516890506537,
          0.35237700618085976,
          -0.2455481706069104,
          0.7803806293720325,
          0.24203840103752242,
          -0.2161546066265365,
          0.21528028337300723,
          -0.7764154251768253,
          -0.5393070538471723,
          0.11881899098269856,
          0.0407302594277677,
          1.1715445442635644,
          0.2532655709725343,
          -0.7610139365215084,
          0.3767819712541526,
          -0.6055789617645948,
          0.4567734669640744,
          -0.20403098657015492,
          0.3333865257566422,
          0.5583669502788223,
          -0.17913699742322295,
          -0.11642525182937263,
          -0.2108548845494901,
          0.4625192507262605,
          0.37274259104902124,
          1.3705240359763342,
          -0.21832553156299345,
          -0.14380128908272635,
          -0.501464794706016,
          0.6857644422460569,
          0.1389066088773146,
          0.048047508231834464,
          -0.16450249981509002,
          0.37148224917710587,
          0.18260885079369865,
          0.4092711761786958,
          -0.5749250559123051,
          0.27597450223983816,
          0.3035039377026289,
          0.18741522204601405,
          -0.3750208481918231,
          0.07851918642935742,
          0.11587674824796568,
          -0.2828867091722692
         ],
         "yaxis": "y"
        }
       ],
       "layout": {
        "autosize": true,
        "legend": {
         "title": {
          "text": "color"
         },
         "tracegroupgap": 0
        },
        "margin": {
         "t": 60
        },
        "template": {
         "data": {
          "bar": [
           {
            "error_x": {
             "color": "#2a3f5f"
            },
            "error_y": {
             "color": "#2a3f5f"
            },
            "marker": {
             "line": {
              "color": "#E5ECF6",
              "width": 0.5
             },
             "pattern": {
              "fillmode": "overlay",
              "size": 10,
              "solidity": 0.2
             }
            },
            "type": "bar"
           }
          ],
          "barpolar": [
           {
            "marker": {
             "line": {
              "color": "#E5ECF6",
              "width": 0.5
             },
             "pattern": {
              "fillmode": "overlay",
              "size": 10,
              "solidity": 0.2
             }
            },
            "type": "barpolar"
           }
          ],
          "carpet": [
           {
            "aaxis": {
             "endlinecolor": "#2a3f5f",
             "gridcolor": "white",
             "linecolor": "white",
             "minorgridcolor": "white",
             "startlinecolor": "#2a3f5f"
            },
            "baxis": {
             "endlinecolor": "#2a3f5f",
             "gridcolor": "white",
             "linecolor": "white",
             "minorgridcolor": "white",
             "startlinecolor": "#2a3f5f"
            },
            "type": "carpet"
           }
          ],
          "choropleth": [
           {
            "colorbar": {
             "outlinewidth": 0,
             "ticks": ""
            },
            "type": "choropleth"
           }
          ],
          "contour": [
           {
            "colorbar": {
             "outlinewidth": 0,
             "ticks": ""
            },
            "colorscale": [
             [
              0,
              "#0d0887"
             ],
             [
              0.1111111111111111,
              "#46039f"
             ],
             [
              0.2222222222222222,
              "#7201a8"
             ],
             [
              0.3333333333333333,
              "#9c179e"
             ],
             [
              0.4444444444444444,
              "#bd3786"
             ],
             [
              0.5555555555555556,
              "#d8576b"
             ],
             [
              0.6666666666666666,
              "#ed7953"
             ],
             [
              0.7777777777777778,
              "#fb9f3a"
             ],
             [
              0.8888888888888888,
              "#fdca26"
             ],
             [
              1,
              "#f0f921"
             ]
            ],
            "type": "contour"
           }
          ],
          "contourcarpet": [
           {
            "colorbar": {
             "outlinewidth": 0,
             "ticks": ""
            },
            "type": "contourcarpet"
           }
          ],
          "heatmap": [
           {
            "colorbar": {
             "outlinewidth": 0,
             "ticks": ""
            },
            "colorscale": [
             [
              0,
              "#0d0887"
             ],
             [
              0.1111111111111111,
              "#46039f"
             ],
             [
              0.2222222222222222,
              "#7201a8"
             ],
             [
              0.3333333333333333,
              "#9c179e"
             ],
             [
              0.4444444444444444,
              "#bd3786"
             ],
             [
              0.5555555555555556,
              "#d8576b"
             ],
             [
              0.6666666666666666,
              "#ed7953"
             ],
             [
              0.7777777777777778,
              "#fb9f3a"
             ],
             [
              0.8888888888888888,
              "#fdca26"
             ],
             [
              1,
              "#f0f921"
             ]
            ],
            "type": "heatmap"
           }
          ],
          "heatmapgl": [
           {
            "colorbar": {
             "outlinewidth": 0,
             "ticks": ""
            },
            "colorscale": [
             [
              0,
              "#0d0887"
             ],
             [
              0.1111111111111111,
              "#46039f"
             ],
             [
              0.2222222222222222,
              "#7201a8"
             ],
             [
              0.3333333333333333,
              "#9c179e"
             ],
             [
              0.4444444444444444,
              "#bd3786"
             ],
             [
              0.5555555555555556,
              "#d8576b"
             ],
             [
              0.6666666666666666,
              "#ed7953"
             ],
             [
              0.7777777777777778,
              "#fb9f3a"
             ],
             [
              0.8888888888888888,
              "#fdca26"
             ],
             [
              1,
              "#f0f921"
             ]
            ],
            "type": "heatmapgl"
           }
          ],
          "histogram": [
           {
            "marker": {
             "pattern": {
              "fillmode": "overlay",
              "size": 10,
              "solidity": 0.2
             }
            },
            "type": "histogram"
           }
          ],
          "histogram2d": [
           {
            "colorbar": {
             "outlinewidth": 0,
             "ticks": ""
            },
            "colorscale": [
             [
              0,
              "#0d0887"
             ],
             [
              0.1111111111111111,
              "#46039f"
             ],
             [
              0.2222222222222222,
              "#7201a8"
             ],
             [
              0.3333333333333333,
              "#9c179e"
             ],
             [
              0.4444444444444444,
              "#bd3786"
             ],
             [
              0.5555555555555556,
              "#d8576b"
             ],
             [
              0.6666666666666666,
              "#ed7953"
             ],
             [
              0.7777777777777778,
              "#fb9f3a"
             ],
             [
              0.8888888888888888,
              "#fdca26"
             ],
             [
              1,
              "#f0f921"
             ]
            ],
            "type": "histogram2d"
           }
          ],
          "histogram2dcontour": [
           {
            "colorbar": {
             "outlinewidth": 0,
             "ticks": ""
            },
            "colorscale": [
             [
              0,
              "#0d0887"
             ],
             [
              0.1111111111111111,
              "#46039f"
             ],
             [
              0.2222222222222222,
              "#7201a8"
             ],
             [
              0.3333333333333333,
              "#9c179e"
             ],
             [
              0.4444444444444444,
              "#bd3786"
             ],
             [
              0.5555555555555556,
              "#d8576b"
             ],
             [
              0.6666666666666666,
              "#ed7953"
             ],
             [
              0.7777777777777778,
              "#fb9f3a"
             ],
             [
              0.8888888888888888,
              "#fdca26"
             ],
             [
              1,
              "#f0f921"
             ]
            ],
            "type": "histogram2dcontour"
           }
          ],
          "mesh3d": [
           {
            "colorbar": {
             "outlinewidth": 0,
             "ticks": ""
            },
            "type": "mesh3d"
           }
          ],
          "parcoords": [
           {
            "line": {
             "colorbar": {
              "outlinewidth": 0,
              "ticks": ""
             }
            },
            "type": "parcoords"
           }
          ],
          "pie": [
           {
            "automargin": true,
            "type": "pie"
           }
          ],
          "scatter": [
           {
            "fillpattern": {
             "fillmode": "overlay",
             "size": 10,
             "solidity": 0.2
            },
            "type": "scatter"
           }
          ],
          "scatter3d": [
           {
            "line": {
             "colorbar": {
              "outlinewidth": 0,
              "ticks": ""
             }
            },
            "marker": {
             "colorbar": {
              "outlinewidth": 0,
              "ticks": ""
             }
            },
            "type": "scatter3d"
           }
          ],
          "scattercarpet": [
           {
            "marker": {
             "colorbar": {
              "outlinewidth": 0,
              "ticks": ""
             }
            },
            "type": "scattercarpet"
           }
          ],
          "scattergeo": [
           {
            "marker": {
             "colorbar": {
              "outlinewidth": 0,
              "ticks": ""
             }
            },
            "type": "scattergeo"
           }
          ],
          "scattergl": [
           {
            "marker": {
             "colorbar": {
              "outlinewidth": 0,
              "ticks": ""
             }
            },
            "type": "scattergl"
           }
          ],
          "scattermapbox": [
           {
            "marker": {
             "colorbar": {
              "outlinewidth": 0,
              "ticks": ""
             }
            },
            "type": "scattermapbox"
           }
          ],
          "scatterpolar": [
           {
            "marker": {
             "colorbar": {
              "outlinewidth": 0,
              "ticks": ""
             }
            },
            "type": "scatterpolar"
           }
          ],
          "scatterpolargl": [
           {
            "marker": {
             "colorbar": {
              "outlinewidth": 0,
              "ticks": ""
             }
            },
            "type": "scatterpolargl"
           }
          ],
          "scatterternary": [
           {
            "marker": {
             "colorbar": {
              "outlinewidth": 0,
              "ticks": ""
             }
            },
            "type": "scatterternary"
           }
          ],
          "surface": [
           {
            "colorbar": {
             "outlinewidth": 0,
             "ticks": ""
            },
            "colorscale": [
             [
              0,
              "#0d0887"
             ],
             [
              0.1111111111111111,
              "#46039f"
             ],
             [
              0.2222222222222222,
              "#7201a8"
             ],
             [
              0.3333333333333333,
              "#9c179e"
             ],
             [
              0.4444444444444444,
              "#bd3786"
             ],
             [
              0.5555555555555556,
              "#d8576b"
             ],
             [
              0.6666666666666666,
              "#ed7953"
             ],
             [
              0.7777777777777778,
              "#fb9f3a"
             ],
             [
              0.8888888888888888,
              "#fdca26"
             ],
             [
              1,
              "#f0f921"
             ]
            ],
            "type": "surface"
           }
          ],
          "table": [
           {
            "cells": {
             "fill": {
              "color": "#EBF0F8"
             },
             "line": {
              "color": "white"
             }
            },
            "header": {
             "fill": {
              "color": "#C8D4E3"
             },
             "line": {
              "color": "white"
             }
            },
            "type": "table"
           }
          ]
         },
         "layout": {
          "annotationdefaults": {
           "arrowcolor": "#2a3f5f",
           "arrowhead": 0,
           "arrowwidth": 1
          },
          "autotypenumbers": "strict",
          "coloraxis": {
           "colorbar": {
            "outlinewidth": 0,
            "ticks": ""
           }
          },
          "colorscale": {
           "diverging": [
            [
             0,
             "#8e0152"
            ],
            [
             0.1,
             "#c51b7d"
            ],
            [
             0.2,
             "#de77ae"
            ],
            [
             0.3,
             "#f1b6da"
            ],
            [
             0.4,
             "#fde0ef"
            ],
            [
             0.5,
             "#f7f7f7"
            ],
            [
             0.6,
             "#e6f5d0"
            ],
            [
             0.7,
             "#b8e186"
            ],
            [
             0.8,
             "#7fbc41"
            ],
            [
             0.9,
             "#4d9221"
            ],
            [
             1,
             "#276419"
            ]
           ],
           "sequential": [
            [
             0,
             "#0d0887"
            ],
            [
             0.1111111111111111,
             "#46039f"
            ],
            [
             0.2222222222222222,
             "#7201a8"
            ],
            [
             0.3333333333333333,
             "#9c179e"
            ],
            [
             0.4444444444444444,
             "#bd3786"
            ],
            [
             0.5555555555555556,
             "#d8576b"
            ],
            [
             0.6666666666666666,
             "#ed7953"
            ],
            [
             0.7777777777777778,
             "#fb9f3a"
            ],
            [
             0.8888888888888888,
             "#fdca26"
            ],
            [
             1,
             "#f0f921"
            ]
           ],
           "sequentialminus": [
            [
             0,
             "#0d0887"
            ],
            [
             0.1111111111111111,
             "#46039f"
            ],
            [
             0.2222222222222222,
             "#7201a8"
            ],
            [
             0.3333333333333333,
             "#9c179e"
            ],
            [
             0.4444444444444444,
             "#bd3786"
            ],
            [
             0.5555555555555556,
             "#d8576b"
            ],
            [
             0.6666666666666666,
             "#ed7953"
            ],
            [
             0.7777777777777778,
             "#fb9f3a"
            ],
            [
             0.8888888888888888,
             "#fdca26"
            ],
            [
             1,
             "#f0f921"
            ]
           ]
          },
          "colorway": [
           "#636efa",
           "#EF553B",
           "#00cc96",
           "#ab63fa",
           "#FFA15A",
           "#19d3f3",
           "#FF6692",
           "#B6E880",
           "#FF97FF",
           "#FECB52"
          ],
          "font": {
           "color": "#2a3f5f"
          },
          "geo": {
           "bgcolor": "white",
           "lakecolor": "white",
           "landcolor": "#E5ECF6",
           "showlakes": true,
           "showland": true,
           "subunitcolor": "white"
          },
          "hoverlabel": {
           "align": "left"
          },
          "hovermode": "closest",
          "mapbox": {
           "style": "light"
          },
          "paper_bgcolor": "white",
          "plot_bgcolor": "#E5ECF6",
          "polar": {
           "angularaxis": {
            "gridcolor": "white",
            "linecolor": "white",
            "ticks": ""
           },
           "bgcolor": "#E5ECF6",
           "radialaxis": {
            "gridcolor": "white",
            "linecolor": "white",
            "ticks": ""
           }
          },
          "scene": {
           "xaxis": {
            "backgroundcolor": "#E5ECF6",
            "gridcolor": "white",
            "gridwidth": 2,
            "linecolor": "white",
            "showbackground": true,
            "ticks": "",
            "zerolinecolor": "white"
           },
           "yaxis": {
            "backgroundcolor": "#E5ECF6",
            "gridcolor": "white",
            "gridwidth": 2,
            "linecolor": "white",
            "showbackground": true,
            "ticks": "",
            "zerolinecolor": "white"
           },
           "zaxis": {
            "backgroundcolor": "#E5ECF6",
            "gridcolor": "white",
            "gridwidth": 2,
            "linecolor": "white",
            "showbackground": true,
            "ticks": "",
            "zerolinecolor": "white"
           }
          },
          "shapedefaults": {
           "line": {
            "color": "#2a3f5f"
           }
          },
          "ternary": {
           "aaxis": {
            "gridcolor": "white",
            "linecolor": "white",
            "ticks": ""
           },
           "baxis": {
            "gridcolor": "white",
            "linecolor": "white",
            "ticks": ""
           },
           "bgcolor": "#E5ECF6",
           "caxis": {
            "gridcolor": "white",
            "linecolor": "white",
            "ticks": ""
           }
          },
          "title": {
           "x": 0.05
          },
          "xaxis": {
           "automargin": true,
           "gridcolor": "white",
           "linecolor": "white",
           "ticks": "",
           "title": {
            "standoff": 15
           },
           "zerolinecolor": "white",
           "zerolinewidth": 2
          },
          "yaxis": {
           "automargin": true,
           "gridcolor": "white",
           "linecolor": "white",
           "ticks": "",
           "title": {
            "standoff": 15
           },
           "zerolinecolor": "white",
           "zerolinewidth": 2
          }
         }
        },
        "xaxis": {
         "anchor": "y",
         "autorange": true,
         "domain": [
          0,
          1
         ],
         "range": [
          -3.652181452205716,
          4.221667867140705
         ],
         "title": {
          "text": "0"
         },
         "type": "linear"
        },
        "yaxis": {
         "anchor": "x",
         "autorange": true,
         "domain": [
          0,
          1
         ],
         "range": [
          -1.466360645988742,
          1.5743927281029353
         ],
         "title": {
          "text": "1"
         },
         "type": "linear"
        }
       }
      },
      "image/png": "[encoded data removed]",
      "text/html": [
       "<div>                            <div id=\"955280c7-c093-441e-86e0-89725d4750c1\" class=\"plotly-graph-div\" style=\"height:525px; width:100%;\"></div>            <script type=\"text/javascript\">                require([\"plotly\"], function(Plotly) {                    window.PLOTLYENV=window.PLOTLYENV || {};                                    if (document.getElementById(\"955280c7-c093-441e-86e0-89725d4750c1\")) {                    Plotly.newPlot(                        \"955280c7-c093-441e-86e0-89725d4750c1\",                        [{\"hovertemplate\":\"color=setosa<br>0=%{x}<br>1=%{y}<extra></extra>\",\"legendgroup\":\"setosa\",\"marker\":{\"color\":\"#636efa\",\"symbol\":\"circle\"},\"mode\":\"markers\",\"name\":\"setosa\",\"orientation\":\"v\",\"showlegend\":true,\"x\":[-2.684207125103941,-2.715390615634131,-2.889819539617914,-2.746437197308734,-2.728592981831314,-2.279897361009597,-2.820890682180629,-2.6264819933238184,-2.8879585653356337,-2.67384468671912,-2.5065267893389023,-2.6131427182710554,-2.7874339759970965,-3.22520044627498,-2.6435432169411457,-2.383869323799374,-2.622526203125808,-2.6483227324791256,-2.199077961430762,-2.5873461889177376,-2.310531701313133,-2.5432349073036944,-3.2158576949001043,-2.303128537663882,-2.3561710866838967,-2.5079172268378795,-2.469055997545122,-2.56239094683675,-2.639821268376581,-2.6328479080307567,-2.588462051303391,-2.410077337121595,-2.6476366733968995,-2.597159477075917,-2.67384468671912,-2.8669998469325337,-2.6252284646804203,-2.67384468671912,-2.9818426648539074,-2.590323025585673,-2.770138910746323,-2.8522110815663915,-2.99829644283235,-2.4055141012847003,-2.208832954176705,-2.7156651907474534,-2.537573371013506,-2.840321296827008,-2.5426857570770474,-2.7039123148636497],\"xaxis\":\"x\",\"y\":[0.3266073147643875,-0.16955684755602596,-0.1373456096050279,-0.31112431575199184,0.333924563568455,0.7477827132251341,-0.08210451102468083,0.1704053489602901,-0.5707980263315917,-0.10669170375273848,0.6519350136725723,0.02152063196025803,-0.22774018887110634,-0.5032799094854259,1.1861948994134501,1.344754344559863,0.8180896745965957,0.31913666775088495,0.8792440880917372,0.5204736388059684,0.39786782158889217,0.4400317546598157,0.14161557162558389,0.10552267842998249,-0.031209589068338338,-0.13905633991317395,0.13788731459041798,0.37468456275010636,0.3192900659603221,-0.19007583063362404,-0.19739307943769085,0.4180800082476164,0.8199826325595074,1.1000219280072692,-0.10669170375273848,0.07719309572358742,0.6068000084215868,-0.10669170375273848,-0.4802500488560766,0.23605933728887316,0.27105941976516734,-0.9328653674695447,-0.3343075745907772,0.19591725769606103,0.4426960304210033,-0.24268148289811298,0.5103675454766062,-0.22057633827647663,0.5862810253439888,0.11501085217050586],\"yaxis\":\"y\",\"type\":\"scatter\"},{\"hovertemplate\":\"color=versicolor<br>0=%{x}<br>1=%{y}<extra></extra>\",\"legendgroup\":\"versicolor\",\"marker\":{\"color\":\"#EF553B\",\"symbol\":\"circle\"},\"mode\":\"markers\",\"name\":\"versicolor\",\"orientation\":\"v\",\"showlegend\":true,\"x\":[1.284794587845071,0.9324107529829173,1.464061322779075,0.18096720634769878,1.0871344872070003,0.6404367495231452,1.0952237099384783,-0.7514671406482267,1.0432977807062804,-0.010190070727853318,-0.5110861958950906,0.5110980606834774,0.2623357561531803,0.9840445451694307,-0.17486400196569596,0.9275729420326997,0.6595927890562007,0.23454058625983565,0.9423617073988416,0.043246400328704734,1.1162407237538154,0.35678656783046137,1.2964688502855335,0.9205026489090091,0.7140082136428331,0.8996408632837757,1.3310414188547195,1.557396272070702,0.8124555489980019,-0.3073347556634042,-0.07034288894927149,-0.1918844921031455,0.1349949504513734,1.3787369827755824,0.5872748535799107,0.8072054966767167,1.2204289662446794,0.8128677903690694,0.24519516169034616,0.16451342836925578,0.46303098887142424,0.8901604456511563,0.2288790499696477,-0.7070812839208603,0.3555330391870635,0.33112694733272285,0.37523822894676584,0.641690278166543,-0.9084633331234949,0.297807907406934],\"xaxis\":\"x\",\"y\":[0.6854391861329202,0.31919808983364883,0.5041898329724532,-0.8256039435761137,0.07539038928876743,-0.4173234829700259,0.2838912109384804,-1.0011075129743947,0.22895690877700683,-0.7205748667019019,-1.2624919538621409,-0.10228410504597027,-0.547893298025337,-0.12436042022227808,-0.25181557108017066,0.4682362050431173,-0.35197629106031675,-0.33192182936212056,-0.5418222581500143,-0.581489446612359,-0.08421401387837348,-0.06682382794136625,-0.3275615197949444,-0.18239036332792113,0.1503791531484372,0.32961097958188407,0.24466952060228928,0.26739258481276484,-0.16233157487863342,-0.3650866127661605,-0.7025379317307262,-0.6774905443743575,-0.31170964270339635,-0.42120513821462857,-0.4832842677174826,0.19505396377111156,0.40803533700101774,-0.3706789983189099,-0.2667280356618481,-0.679661469310814,-0.6695265465361229,-0.03381244274676277,-0.40225762017891153,-1.0084247617784614,-0.5032184874026625,-0.2111801406626268,-0.29162202480877986,0.01907117649127073,-0.7515687251694858,-0.34701652159856405],\"yaxis\":\"y\",\"type\":\"scatter\"},{\"hovertemplate\":\"color=virginica<br>0=%{x}<br>1=%{y}<extra></extra>\",\"legendgroup\":\"virginica\",\"marker\":{\"color\":\"#00cc96\",\"symbol\":\"circle\"},\"mode\":\"markers\",\"name\":\"virginica\",\"orientation\":\"v\",\"showlegend\":true,\"x\":[2.531726980439558,1.4140722251737572,2.616484608284043,1.9708149459064814,2.3497579839509415,3.3968799206781375,0.5193832450849365,2.932005096991301,2.319672793874053,2.918134233644251,1.6619349470194862,1.8023404526607327,2.165378862953397,1.3445942175098242,1.5852672993086436,1.904743578213912,1.9492487818644972,3.488765379656385,3.794686861209969,1.2983298245678159,2.4281672590208476,1.1980973722749628,3.499265484298956,1.3876682501815554,2.275853649305694,2.614193830698334,1.2576251829251361,1.2906696477376014,2.1228539805083124,2.3875644023690272,2.8409609252853834,3.2323428982958737,2.1587383731331338,1.4431026043759743,1.7796401068985694,3.076521621020661,2.1449868567093033,1.9048629251371314,1.1688534694704034,2.107653731173268,2.314303394629548,1.9224508848357522,1.4140722251737572,2.5633227123408084,2.4193912198049796,1.9440170488777369,1.5256636313138725,1.7640459355269822,1.9016290752882323,1.3896661333194165],\"xaxis\":\"x\",\"y\":[-0.011842236640300513,-0.5749250559123051,0.3419352869872948,-0.18112569470491394,-0.041882549654841957,0.5471680462301528,-1.1913516890506537,0.35237700618085976,-0.2455481706069104,0.7803806293720325,0.24203840103752242,-0.2161546066265365,0.21528028337300723,-0.7764154251768253,-0.5393070538471723,0.11881899098269856,0.0407302594277677,1.1715445442635644,0.2532655709725343,-0.7610139365215084,0.3767819712541526,-0.6055789617645948,0.4567734669640744,-0.20403098657015492,0.3333865257566422,0.5583669502788223,-0.17913699742322295,-0.11642525182937263,-0.2108548845494901,0.4625192507262605,0.37274259104902124,1.3705240359763342,-0.21832553156299345,-0.14380128908272635,-0.501464794706016,0.6857644422460569,0.1389066088773146,0.048047508231834464,-0.16450249981509002,0.37148224917710587,0.18260885079369865,0.4092711761786958,-0.5749250559123051,0.27597450223983816,0.3035039377026289,0.18741522204601405,-0.3750208481918231,0.07851918642935742,0.11587674824796568,-0.2828867091722692],\"yaxis\":\"y\",\"type\":\"scatter\"}],                        {\"template\":{\"data\":{\"histogram2dcontour\":[{\"type\":\"histogram2dcontour\",\"colorbar\":{\"outlinewidth\":0,\"ticks\":\"\"},\"colorscale\":[[0.0,\"#0d0887\"],[0.1111111111111111,\"#46039f\"],[0.2222222222222222,\"#7201a8\"],[0.3333333333333333,\"#9c179e\"],[0.4444444444444444,\"#bd3786\"],[0.5555555555555556,\"#d8576b\"],[0.6666666666666666,\"#ed7953\"],[0.7777777777777778,\"#fb9f3a\"],[0.8888888888888888,\"#fdca26\"],[1.0,\"#f0f921\"]]}],\"choropleth\":[{\"type\":\"choropleth\",\"colorbar\":{\"outlinewidth\":0,\"ticks\":\"\"}}],\"histogram2d\":[{\"type\":\"histogram2d\",\"colorbar\":{\"outlinewidth\":0,\"ticks\":\"\"},\"colorscale\":[[0.0,\"#0d0887\"],[0.1111111111111111,\"#46039f\"],[0.2222222222222222,\"#7201a8\"],[0.3333333333333333,\"#9c179e\"],[0.4444444444444444,\"#bd3786\"],[0.5555555555555556,\"#d8576b\"],[0.6666666666666666,\"#ed7953\"],[0.7777777777777778,\"#fb9f3a\"],[0.8888888888888888,\"#fdca26\"],[1.0,\"#f0f921\"]]}],\"heatmap\":[{\"type\":\"heatmap\",\"colorbar\":{\"outlinewidth\":0,\"ticks\":\"\"},\"colorscale\":[[0.0,\"#0d0887\"],[0.1111111111111111,\"#46039f\"],[0.2222222222222222,\"#7201a8\"],[0.3333333333333333,\"#9c179e\"],[0.4444444444444444,\"#bd3786\"],[0.5555555555555556,\"#d8576b\"],[0.6666666666666666,\"#ed7953\"],[0.7777777777777778,\"#fb9f3a\"],[0.8888888888888888,\"#fdca26\"],[1.0,\"#f0f921\"]]}],\"heatmapgl\":[{\"type\":\"heatmapgl\",\"colorbar\":{\"outlinewidth\":0,\"ticks\":\"\"},\"colorscale\":[[0.0,\"#0d0887\"],[0.1111111111111111,\"#46039f\"],[0.2222222222222222,\"#7201a8\"],[0.3333333333333333,\"#9c179e\"],[0.4444444444444444,\"#bd3786\"],[0.5555555555555556,\"#d8576b\"],[0.6666666666666666,\"#ed7953\"],[0.7777777777777778,\"#fb9f3a\"],[0.8888888888888888,\"#fdca26\"],[1.0,\"#f0f921\"]]}],\"contourcarpet\":[{\"type\":\"contourcarpet\",\"colorbar\":{\"outlinewidth\":0,\"ticks\":\"\"}}],\"contour\":[{\"type\":\"contour\",\"colorbar\":{\"outlinewidth\":0,\"ticks\":\"\"},\"colorscale\":[[0.0,\"#0d0887\"],[0.1111111111111111,\"#46039f\"],[0.2222222222222222,\"#7201a8\"],[0.3333333333333333,\"#9c179e\"],[0.4444444444444444,\"#bd3786\"],[0.5555555555555556,\"#d8576b\"],[0.6666666666666666,\"#ed7953\"],[0.7777777777777778,\"#fb9f3a\"],[0.8888888888888888,\"#fdca26\"],[1.0,\"#f0f921\"]]}],\"surface\":[{\"type\":\"surface\",\"colorbar\":{\"outlinewidth\":0,\"ticks\":\"\"},\"colorscale\":[[0.0,\"#0d0887\"],[0.1111111111111111,\"#46039f\"],[0.2222222222222222,\"#7201a8\"],[0.3333333333333333,\"#9c179e\"],[0.4444444444444444,\"#bd3786\"],[0.5555555555555556,\"#d8576b\"],[0.6666666666666666,\"#ed7953\"],[0.7777777777777778,\"#fb9f3a\"],[0.8888888888888888,\"#fdca26\"],[1.0,\"#f0f921\"]]}],\"mesh3d\":[{\"type\":\"mesh3d\",\"colorbar\":{\"outlinewidth\":0,\"ticks\":\"\"}}],\"scatter\":[{\"fillpattern\":{\"fillmode\":\"overlay\",\"size\":10,\"solidity\":0.2},\"type\":\"scatter\"}],\"parcoords\":[{\"type\":\"parcoords\",\"line\":{\"colorbar\":{\"outlinewidth\":0,\"ticks\":\"\"}}}],\"scatterpolargl\":[{\"type\":\"scatterpolargl\",\"marker\":{\"colorbar\":{\"outlinewidth\":0,\"ticks\":\"\"}}}],\"bar\":[{\"error_x\":{\"color\":\"#2a3f5f\"},\"error_y\":{\"color\":\"#2a3f5f\"},\"marker\":{\"line\":{\"color\":\"#E5ECF6\",\"width\":0.5},\"pattern\":{\"fillmode\":\"overlay\",\"size\":10,\"solidity\":0.2}},\"type\":\"bar\"}],\"scattergeo\":[{\"type\":\"scattergeo\",\"marker\":{\"colorbar\":{\"outlinewidth\":0,\"ticks\":\"\"}}}],\"scatterpolar\":[{\"type\":\"scatterpolar\",\"marker\":{\"colorbar\":{\"outlinewidth\":0,\"ticks\":\"\"}}}],\"histogram\":[{\"marker\":{\"pattern\":{\"fillmode\":\"overlay\",\"size\":10,\"solidity\":0.2}},\"type\":\"histogram\"}],\"scattergl\":[{\"type\":\"scattergl\",\"marker\":{\"colorbar\":{\"outlinewidth\":0,\"ticks\":\"\"}}}],\"scatter3d\":[{\"type\":\"scatter3d\",\"line\":{\"colorbar\":{\"outlinewidth\":0,\"ticks\":\"\"}},\"marker\":{\"colorbar\":{\"outlinewidth\":0,\"ticks\":\"\"}}}],\"scattermapbox\":[{\"type\":\"scattermapbox\",\"marker\":{\"colorbar\":{\"outlinewidth\":0,\"ticks\":\"\"}}}],\"scatterternary\":[{\"type\":\"scatterternary\",\"marker\":{\"colorbar\":{\"outlinewidth\":0,\"ticks\":\"\"}}}],\"scattercarpet\":[{\"type\":\"scattercarpet\",\"marker\":{\"colorbar\":{\"outlinewidth\":0,\"ticks\":\"\"}}}],\"carpet\":[{\"aaxis\":{\"endlinecolor\":\"#2a3f5f\",\"gridcolor\":\"white\",\"linecolor\":\"white\",\"minorgridcolor\":\"white\",\"startlinecolor\":\"#2a3f5f\"},\"baxis\":{\"endlinecolor\":\"#2a3f5f\",\"gridcolor\":\"white\",\"linecolor\":\"white\",\"minorgridcolor\":\"white\",\"startlinecolor\":\"#2a3f5f\"},\"type\":\"carpet\"}],\"table\":[{\"cells\":{\"fill\":{\"color\":\"#EBF0F8\"},\"line\":{\"color\":\"white\"}},\"header\":{\"fill\":{\"color\":\"#C8D4E3\"},\"line\":{\"color\":\"white\"}},\"type\":\"table\"}],\"barpolar\":[{\"marker\":{\"line\":{\"color\":\"#E5ECF6\",\"width\":0.5},\"pattern\":{\"fillmode\":\"overlay\",\"size\":10,\"solidity\":0.2}},\"type\":\"barpolar\"}],\"pie\":[{\"automargin\":true,\"type\":\"pie\"}]},\"layout\":{\"autotypenumbers\":\"strict\",\"colorway\":[\"#636efa\",\"#EF553B\",\"#00cc96\",\"#ab63fa\",\"#FFA15A\",\"#19d3f3\",\"#FF6692\",\"#B6E880\",\"#FF97FF\",\"#FECB52\"],\"font\":{\"color\":\"#2a3f5f\"},\"hovermode\":\"closest\",\"hoverlabel\":{\"align\":\"left\"},\"paper_bgcolor\":\"white\",\"plot_bgcolor\":\"#E5ECF6\",\"polar\":{\"bgcolor\":\"#E5ECF6\",\"angularaxis\":{\"gridcolor\":\"white\",\"linecolor\":\"white\",\"ticks\":\"\"},\"radialaxis\":{\"gridcolor\":\"white\",\"linecolor\":\"white\",\"ticks\":\"\"}},\"ternary\":{\"bgcolor\":\"#E5ECF6\",\"aaxis\":{\"gridcolor\":\"white\",\"linecolor\":\"white\",\"ticks\":\"\"},\"baxis\":{\"gridcolor\":\"white\",\"linecolor\":\"white\",\"ticks\":\"\"},\"caxis\":{\"gridcolor\":\"white\",\"linecolor\":\"white\",\"ticks\":\"\"}},\"coloraxis\":{\"colorbar\":{\"outlinewidth\":0,\"ticks\":\"\"}},\"colorscale\":{\"sequential\":[[0.0,\"#0d0887\"],[0.1111111111111111,\"#46039f\"],[0.2222222222222222,\"#7201a8\"],[0.3333333333333333,\"#9c179e\"],[0.4444444444444444,\"#bd3786\"],[0.5555555555555556,\"#d8576b\"],[0.6666666666666666,\"#ed7953\"],[0.7777777777777778,\"#fb9f3a\"],[0.8888888888888888,\"#fdca26\"],[1.0,\"#f0f921\"]],\"sequentialminus\":[[0.0,\"#0d0887\"],[0.1111111111111111,\"#46039f\"],[0.2222222222222222,\"#7201a8\"],[0.3333333333333333,\"#9c179e\"],[0.4444444444444444,\"#bd3786\"],[0.5555555555555556,\"#d8576b\"],[0.6666666666666666,\"#ed7953\"],[0.7777777777777778,\"#fb9f3a\"],[0.8888888888888888,\"#fdca26\"],[1.0,\"#f0f921\"]],\"diverging\":[[0,\"#8e0152\"],[0.1,\"#c51b7d\"],[0.2,\"#de77ae\"],[0.3,\"#f1b6da\"],[0.4,\"#fde0ef\"],[0.5,\"#f7f7f7\"],[0.6,\"#e6f5d0\"],[0.7,\"#b8e186\"],[0.8,\"#7fbc41\"],[0.9,\"#4d9221\"],[1,\"#276419\"]]},\"xaxis\":{\"gridcolor\":\"white\",\"linecolor\":\"white\",\"ticks\":\"\",\"title\":{\"standoff\":15},\"zerolinecolor\":\"white\",\"automargin\":true,\"zerolinewidth\":2},\"yaxis\":{\"gridcolor\":\"white\",\"linecolor\":\"white\",\"ticks\":\"\",\"title\":{\"standoff\":15},\"zerolinecolor\":\"white\",\"automargin\":true,\"zerolinewidth\":2},\"scene\":{\"xaxis\":{\"backgroundcolor\":\"#E5ECF6\",\"gridcolor\":\"white\",\"linecolor\":\"white\",\"showbackground\":true,\"ticks\":\"\",\"zerolinecolor\":\"white\",\"gridwidth\":2},\"yaxis\":{\"backgroundcolor\":\"#E5ECF6\",\"gridcolor\":\"white\",\"linecolor\":\"white\",\"showbackground\":true,\"ticks\":\"\",\"zerolinecolor\":\"white\",\"gridwidth\":2},\"zaxis\":{\"backgroundcolor\":\"#E5ECF6\",\"gridcolor\":\"white\",\"linecolor\":\"white\",\"showbackground\":true,\"ticks\":\"\",\"zerolinecolor\":\"white\",\"gridwidth\":2}},\"shapedefaults\":{\"line\":{\"color\":\"#2a3f5f\"}},\"annotationdefaults\":{\"arrowcolor\":\"#2a3f5f\",\"arrowhead\":0,\"arrowwidth\":1},\"geo\":{\"bgcolor\":\"white\",\"landcolor\":\"#E5ECF6\",\"subunitcolor\":\"white\",\"showland\":true,\"showlakes\":true,\"lakecolor\":\"white\"},\"title\":{\"x\":0.05},\"mapbox\":{\"style\":\"light\"}}},\"xaxis\":{\"anchor\":\"y\",\"domain\":[0.0,1.0],\"title\":{\"text\":\"0\"}},\"yaxis\":{\"anchor\":\"x\",\"domain\":[0.0,1.0],\"title\":{\"text\":\"1\"}},\"legend\":{\"title\":{\"text\":\"color\"},\"tracegroupgap\":0},\"margin\":{\"t\":60}},                        {\"responsive\": true}                    ).then(function(){\n",
       "                            \n",
       "var gd = document.getElementById('955280c7-c093-441e-86e0-89725d4750c1');\n",
       "var x = new MutationObserver(function (mutations, observer) {{\n",
       "        var display = window.getComputedStyle(gd).display;\n",
       "        if (!display || display === 'none') {{\n",
       "            console.log([gd, 'removed!']);\n",
       "            Plotly.purge(gd);\n",
       "            observer.disconnect();\n",
       "        }}\n",
       "}});\n",
       "\n",
       "// Listen for the removal of the full notebook cells\n",
       "var notebookContainer = gd.closest('#notebook-container');\n",
       "if (notebookContainer) {{\n",
       "    x.observe(notebookContainer, {childList: true});\n",
       "}}\n",
       "\n",
       "// Listen for the clearing of the current output cell\n",
       "var outputEl = gd.closest('.output');\n",
       "if (outputEl) {{\n",
       "    x.observe(outputEl, {childList: true});\n",
       "}}\n",
       "\n",
       "                        })                };                });            </script>        </div>"
      ]
     },
     "metadata": {},
     "output_type": "display_data"
    }
   ],
   "source": [
    "import plotly.express as px\n",
    "from sklearn.decomposition import PCA\n",
    "\n",
    "# Load the Iris dataset\n",
    "df = px.data.iris()\n",
    "X = df[['sepal_length', 'sepal_width', 'petal_length', 'petal_width']]\n",
    "\n",
    "# Apply PCA to reduce dimensions to 2\n",
    "pca = PCA(n_components=2)\n",
    "components = pca.fit_transform(X)\n",
    "\n",
    "# Visualize the first two principal components\n",
    "fig = px.scatter(components, x=0, y=1, color=df['species'])\n",
    "fig.show()"
   ]
  },
  {
   "cell_type": "code",
   "execution_count": 30,
   "id": "cec8a69e-e14d-4d91-9bd8-a8a719733e27",
   "metadata": {},
   "outputs": [
    {
     "data": {
      "image/png": "[encoded data removed]",
      "text/plain": [
       "<Figure size 640x480 with 1 Axes>"
      ]
     },
     "metadata": {},
     "output_type": "display_data"
    },
    {
     "name": "stdout",
     "output_type": "stream",
     "text": [
      "Outliers:\n",
      "    Value\n",
      "15    100\n"
     ]
    }
   ],
   "source": [
    "import matplotlib.pyplot as plt\n",
    "\n",
    "# Sample DataFrame\n",
    "data = {\n",
    "    'Value': [1, 2, 3, 4, 5, 6, 7, 8, 9, 10, 11, 12, 13, 14, 15, 100] # Including an outlier (100)\n",
    "}\n",
    "df = pd.DataFrame(data)\n",
    "\n",
    "# Create a box plot\n",
    "plt.boxplot(df['Value'])\n",
    "plt.title('Box Plot of Values')\n",
    "plt.show()\n",
    "Q1 = df['Value'].quantile(0.25)\n",
    "Q3 = df['Value'].quantile(0.75)\n",
    "IQR = Q3 - Q1\n",
    "    \n",
    "lower_bound = Q1 - 1.5 * IQR\n",
    "upper_bound = Q3 + 1.5 * IQR\n",
    "    \n",
    "outliers = df[(df['Value'] < lower_bound) | (df['Value'] > upper_bound)]\n",
    "print(\"Outliers:\")\n",
    "print(outliers)\n"
   ]
  },
  {
   "cell_type": "code",
   "execution_count": null,
   "id": "66c1571b-0179-4b90-8a23-16fac1ca1dcb",
   "metadata": {},
   "outputs": [],
   "source": []
  }
 ],
 "metadata": {
  "kernelspec": {
   "display_name": "Python 3 (ipykernel)",
   "language": "python",
   "name": "python3"
  },
  "language_info": {
   "codemirror_mode": {
    "name": "ipython",
    "version": 3
   },
   "file_extension": ".py",
   "mimetype": "text/x-python",
   "name": "python",
   "nbconvert_exporter": "python",
   "pygments_lexer": "ipython3",
   "version": "3.11.7"
  }
 },
 "nbformat": 4,
 "nbformat_minor": 5
}
